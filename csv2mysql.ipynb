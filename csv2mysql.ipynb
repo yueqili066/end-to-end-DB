{
 "cells": [
  {
   "cell_type": "code",
   "execution_count": 11,
   "metadata": {},
   "outputs": [],
   "source": [
    "import pandas as pd"
   ]
  },
  {
   "cell_type": "code",
   "execution_count": 14,
   "metadata": {},
   "outputs": [],
   "source": [
    "df = pd.read_csv('/Users/yueqili/Desktop/data/COVID-19_Hospital_Data_Coverage_Detail.csv')\n",
    "\n",
    "# only select interested columns\n",
    "cols = ['ccn','facility_name','state','zip_code','provider_subtype','certified_bed_count','component_hospitals','week_ending',\n",
    "        'total_beds', 'all_adult_hospital_beds', 'inpatient_beds',\n",
    "       'all_adult_hospital_inpatient_beds', 'inpatient_beds_used',\n",
    "       'all_adult_hospital_inpatient_bed_occupied', 'total_icu_beds',\n",
    "       'total_staffed_adult_icu_beds', 'icu_beds_used',\n",
    "       'staffed_adult_icu_bed_occupancy', 'total_ventilators','ventilators_used']\n",
    "df = df[cols]"
   ]
  },
  {
   "cell_type": "code",
   "execution_count": 15,
   "metadata": {},
   "outputs": [
    {
     "data": {
      "text/plain": [
       "ccn                                           0\n",
       "facility_name                                 0\n",
       "state                                         0\n",
       "zip_code                                      0\n",
       "provider_subtype                              0\n",
       "certified_bed_count                           0\n",
       "component_hospitals                          59\n",
       "week_ending                                   0\n",
       "total_beds                                    0\n",
       "all_adult_hospital_beds                       0\n",
       "inpatient_beds                                0\n",
       "all_adult_hospital_inpatient_beds             0\n",
       "inpatient_beds_used                           0\n",
       "all_adult_hospital_inpatient_bed_occupied     0\n",
       "total_icu_beds                                0\n",
       "total_staffed_adult_icu_beds                  0\n",
       "icu_beds_used                                 0\n",
       "staffed_adult_icu_bed_occupancy               0\n",
       "total_ventilators                             0\n",
       "ventilators_used                              0\n",
       "dtype: int64"
      ]
     },
     "execution_count": 15,
     "metadata": {},
     "output_type": "execute_result"
    }
   ],
   "source": [
    "# check missing value counts\n",
    "df.isnull().sum()"
   ]
  },
  {
   "cell_type": "code",
   "execution_count": 16,
   "metadata": {},
   "outputs": [
    {
     "data": {
      "text/plain": [
       "ccn                                            int64\n",
       "facility_name                                 object\n",
       "state                                         object\n",
       "zip_code                                       int64\n",
       "provider_subtype                              object\n",
       "certified_bed_count                            int64\n",
       "component_hospitals                          float64\n",
       "week_ending                                   object\n",
       "total_beds                                   float64\n",
       "all_adult_hospital_beds                      float64\n",
       "inpatient_beds                               float64\n",
       "all_adult_hospital_inpatient_beds            float64\n",
       "inpatient_beds_used                          float64\n",
       "all_adult_hospital_inpatient_bed_occupied    float64\n",
       "total_icu_beds                               float64\n",
       "total_staffed_adult_icu_beds                 float64\n",
       "icu_beds_used                                float64\n",
       "staffed_adult_icu_bed_occupancy              float64\n",
       "total_ventilators                            float64\n",
       "ventilators_used                             float64\n",
       "dtype: object"
      ]
     },
     "execution_count": 16,
     "metadata": {},
     "output_type": "execute_result"
    }
   ],
   "source": [
    "## check data type\n",
    "df.dtypes"
   ]
  },
  {
   "cell_type": "code",
   "execution_count": 17,
   "metadata": {},
   "outputs": [],
   "source": [
    "## change data type\n",
    "# datetime\n",
    "df['week_ending']= pd.to_datetime(df['week_ending'])\n",
    "\n",
    "# change to specified type\n",
    "# df = df.astype({'zipcode':'float'})"
   ]
  },
  {
   "cell_type": "code",
   "execution_count": 18,
   "metadata": {},
   "outputs": [],
   "source": [
    "## exmport to tuple\n",
    "y = []\n",
    "for i in range(len(df)):\n",
    "    x = tuple(df.iloc[i])\n",
    "    y.append(x)"
   ]
  },
  {
   "cell_type": "code",
   "execution_count": 19,
   "metadata": {},
   "outputs": [
    {
     "data": {
      "text/plain": [
       "<function TextIOWrapper.close()>"
      ]
     },
     "execution_count": 19,
     "metadata": {},
     "output_type": "execute_result"
    }
   ],
   "source": [
    "## write to a txt file for import\n",
    "file = open('insert.txt', 'w')\n",
    "for tuple in y:\n",
    "    file.write(str(tuple) + ',' +'\\n')\n",
    "\n",
    "file.close"
   ]
  }
 ],
 "metadata": {
  "kernelspec": {
   "display_name": "etl",
   "language": "python",
   "name": "python3"
  },
  "language_info": {
   "codemirror_mode": {
    "name": "ipython",
    "version": 3
   },
   "file_extension": ".py",
   "mimetype": "text/x-python",
   "name": "python",
   "nbconvert_exporter": "python",
   "pygments_lexer": "ipython3",
   "version": "3.8.16"
  },
  "orig_nbformat": 4
 },
 "nbformat": 4,
 "nbformat_minor": 2
}
