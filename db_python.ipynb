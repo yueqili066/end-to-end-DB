{
 "cells": [
  {
   "cell_type": "code",
   "execution_count": 2,
   "metadata": {},
   "outputs": [
    {
     "name": "stdout",
     "output_type": "stream",
     "text": [
      "Collecting mysql-connector-python\n",
      "  Downloading mysql_connector_python-8.0.33-py2.py3-none-any.whl (390 kB)\n",
      "\u001b[2K     \u001b[90m━━━━━━━━━━━━━━━━━━━━━━━━━━━━━━━━━━━━━━━\u001b[0m \u001b[32m390.1/390.1 kB\u001b[0m \u001b[31m8.7 MB/s\u001b[0m eta \u001b[36m0:00:00\u001b[0ma \u001b[36m0:00:01\u001b[0m\n",
      "\u001b[?25hCollecting protobuf<=3.20.3,>=3.11.0\n",
      "  Downloading protobuf-3.20.3-py2.py3-none-any.whl (162 kB)\n",
      "\u001b[2K     \u001b[90m━━━━━━━━━━━━━━━━━━━━━━━━━━━━━━━━━━━━━━\u001b[0m \u001b[32m162.1/162.1 kB\u001b[0m \u001b[31m15.4 MB/s\u001b[0m eta \u001b[36m0:00:00\u001b[0m\n",
      "\u001b[?25hInstalling collected packages: protobuf, mysql-connector-python\n",
      "Successfully installed mysql-connector-python-8.0.33 protobuf-3.20.3\n"
     ]
    }
   ],
   "source": [
    "# !pip install mysql-connector-python"
   ]
  },
  {
   "cell_type": "code",
   "execution_count": 10,
   "metadata": {},
   "outputs": [
    {
     "name": "stdout",
     "output_type": "stream",
     "text": [
      "('AL',)\n",
      "('AK',)\n",
      "('AZ',)\n",
      "('AR',)\n",
      "('CA',)\n",
      "('CO',)\n",
      "('CT',)\n",
      "('DE',)\n",
      "('DC',)\n",
      "('FL',)\n",
      "('GA',)\n",
      "('HI',)\n",
      "('ID',)\n",
      "('IL',)\n",
      "('IN',)\n",
      "('IA',)\n",
      "('KS',)\n",
      "('KY',)\n",
      "('LA',)\n",
      "('ME',)\n",
      "('MD',)\n",
      "('MA',)\n",
      "('MI',)\n",
      "('MN',)\n",
      "('MS',)\n",
      "('MO',)\n",
      "('MT',)\n",
      "('NE',)\n",
      "('NV',)\n",
      "('NH',)\n",
      "('NJ',)\n",
      "('NM',)\n",
      "('NY',)\n",
      "('NC',)\n",
      "('ND',)\n",
      "('OH',)\n",
      "('OK',)\n",
      "('OR',)\n",
      "('PA',)\n",
      "('PR',)\n",
      "('RI',)\n",
      "('SC',)\n",
      "('SD',)\n",
      "('TN',)\n",
      "('TX',)\n",
      "('UT',)\n",
      "('VT',)\n",
      "('VI',)\n",
      "('VA',)\n",
      "('WA',)\n",
      "('WV',)\n",
      "('WI',)\n",
      "('WY',)\n",
      "('AS',)\n",
      "('GU',)\n",
      "('MP',)\n"
     ]
    }
   ],
   "source": [
    "import mysql.connector\n",
    "\n",
    "# Define the connection parameters\n",
    "config = {\n",
    "    'user': 'root',\n",
    "    'password': '',\n",
    "    'host': 'localhost',\n",
    "    'database': 'covid_coverage'\n",
    "}\n",
    "\n",
    "# Connect to the database\n",
    "cnx = mysql.connector.connect(**config)\n",
    "\n",
    "# Create a cursor object\n",
    "cursor = cnx.cursor()\n",
    "\n",
    "# Execute a query\n",
    "query = 'SELECT DISTINCT state FROM hospital_data;'\n",
    "cursor.execute(query)\n",
    "\n",
    "# Fetch the results\n",
    "results = cursor.fetchall()\n",
    "\n",
    "# Print the results\n",
    "for row in results:\n",
    "    print(row)\n",
    "\n",
    "# Close the cursor and the connection\n",
    "cursor.close()\n",
    "cnx.close()\n"
   ]
  }
 ],
 "metadata": {
  "kernelspec": {
   "display_name": "etl",
   "language": "python",
   "name": "python3"
  },
  "language_info": {
   "codemirror_mode": {
    "name": "ipython",
    "version": 3
   },
   "file_extension": ".py",
   "mimetype": "text/x-python",
   "name": "python",
   "nbconvert_exporter": "python",
   "pygments_lexer": "ipython3",
   "version": "3.8.16"
  },
  "orig_nbformat": 4
 },
 "nbformat": 4,
 "nbformat_minor": 2
}
